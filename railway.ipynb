{
 "cells": [
  {
   "cell_type": "code",
   "execution_count": 1,
   "id": "57e1ec53",
   "metadata": {},
   "outputs": [],
   "source": [
    "import numpy as np\n",
    "import matplotlib.pyplot as plt\n",
    "from matplotlib.animation import FuncAnimation\n"
   ]
  },
  {
   "cell_type": "code",
   "execution_count": 2,
   "id": "5048738c",
   "metadata": {},
   "outputs": [],
   "source": [
    "width = 2000\n",
    "height = 1000\n",
    "channel = 3\n"
   ]
  },
  {
   "cell_type": "code",
   "execution_count": 3,
   "id": "8f3f7fdf",
   "metadata": {},
   "outputs": [],
   "source": [
    "image = np.zeros((height, width, channel), dtype=np.uint8)\n"
   ]
  },
  {
   "cell_type": "code",
   "execution_count": 4,
   "id": "33e7864c",
   "metadata": {},
   "outputs": [],
   "source": [
    "#background"
   ]
  },
  {
   "cell_type": "code",
   "execution_count": null,
   "id": "3fa171fa",
   "metadata": {},
   "outputs": [],
   "source": []
  },
  {
   "cell_type": "code",
   "execution_count": 5,
   "id": "8a16662c",
   "metadata": {},
   "outputs": [],
   "source": [
    "image[0:800,0 :2000 , 0] = 255\n",
    "image[0:800,0:2000 , 1] = 127\n",
    "image[0:800,0 :2000 , 2] = 39\n"
   ]
  },
  {
   "cell_type": "code",
   "execution_count": 6,
   "id": "dbe63976",
   "metadata": {},
   "outputs": [],
   "source": [
    "image[0:800,0 :2000 , 0] = 255\n",
    "image[0:800,0:2000 , 1] = 127\n",
    "image[0:800,0 :2000 , 2] = 39\n"
   ]
  },
  {
   "cell_type": "code",
   "execution_count": 7,
   "id": "2b34a48b",
   "metadata": {},
   "outputs": [],
   "source": [
    "image[800:1000,1500 :2000 , 0] = 0\n",
    "image[800:1000, 1500: 2000, 1] = 128\n",
    "image[800:1000, 1500: 2000, 2] = 0\n"
   ]
  },
  {
   "cell_type": "code",
   "execution_count": null,
   "id": "5ec6b572",
   "metadata": {},
   "outputs": [],
   "source": []
  },
  {
   "cell_type": "code",
   "execution_count": 8,
   "id": "51dd594f",
   "metadata": {},
   "outputs": [],
   "source": [
    "image[800:1000,0 :500 , 0] = 0\n",
    "image[800:1000, 0: 500, 1] = 128\n",
    "image[800:1000, 0: 500, 2] = 0\n"
   ]
  },
  {
   "cell_type": "code",
   "execution_count": 9,
   "id": "4fd9582a",
   "metadata": {},
   "outputs": [],
   "source": [
    "#sun\n",
    "sun_radius = 74\n",
    "sun_center = (800, 1000)  # (y, x) coordinates\n",
    "sun_color = (252, 215, 3)  # Yellow\n",
    "\n",
    "y_coords, x_coords = np.ogrid[:height, :width]\n",
    "distance = np.sqrt((x_coords - sun_center[1]) ** 2 + (y_coords - sun_center[0]) ** 2)\n",
    "\n",
    "#Create a circular mask for the sun\n",
    "sun_mask = distance <= sun_radius\n",
    "\n",
    "# Apply the sun color to the pixels within the mask\n",
    "image[sun_mask] = sun_color\n"
   ]
  },
  {
   "cell_type": "code",
   "execution_count": null,
   "id": "1a93e83a",
   "metadata": {},
   "outputs": [],
   "source": []
  },
  {
   "cell_type": "code",
   "execution_count": 10,
   "id": "2793000b",
   "metadata": {},
   "outputs": [],
   "source": [
    "#white cloud\n",
    "#1\n",
    "image[50:100,250 :500 , 0] = 255\n",
    "image[50:100,250:500 , 1] = 255\n",
    "image[50:100,250 :500 , 2] = 255"
   ]
  },
  {
   "cell_type": "code",
   "execution_count": 11,
   "id": "4a1db57a",
   "metadata": {},
   "outputs": [],
   "source": [
    "image[70:120,280 :590 , 0] = 255\n",
    "image[70:120,280:590, 1] = 255\n",
    "image[70:120,280 :590 , 2] = 255"
   ]
  },
  {
   "cell_type": "code",
   "execution_count": 12,
   "id": "a40c2312",
   "metadata": {},
   "outputs": [],
   "source": [
    "#2\n",
    "image[50:100,1250 :1500 , 0] = 255\n",
    "image[50:100,1250:1500 , 1] = 255\n",
    "image[50:100,1250 :1500 , 2] = 255\n",
    "\n",
    "image[70:120,1280 :1590 , 0] = 255\n",
    "image[70:120,1280:1590, 1] = 255\n",
    "image[70:120,1280 :1590 , 2] = 255"
   ]
  },
  {
   "cell_type": "code",
   "execution_count": 13,
   "id": "9d1a727a",
   "metadata": {},
   "outputs": [],
   "source": [
    "#blue water\n",
    "image[800:1000,500 :1500 , 0] = 0\n",
    "image[800:1000,500:1500 , 1] = 181\n",
    "image[800:1000,500 :1500 , 2] = 226"
   ]
  },
  {
   "cell_type": "code",
   "execution_count": 14,
   "id": "00ad3e85",
   "metadata": {},
   "outputs": [],
   "source": [
    "image[810:820,900 :1100 , 0] = 252\n",
    "image[810:820,900:1100 , 1] = 215\n",
    "image[810:820,900 :1100 , 2] = 3"
   ]
  },
  {
   "cell_type": "code",
   "execution_count": 15,
   "id": "2bb000b3",
   "metadata": {},
   "outputs": [],
   "source": [
    "image[840:850,950 :1050 , 0] = 252\n",
    "image[840:850,950:1050 , 1] = 215\n",
    "image[840:850,950 :1050 , 2] = 3"
   ]
  },
  {
   "cell_type": "code",
   "execution_count": 16,
   "id": "62925ee4",
   "metadata": {},
   "outputs": [],
   "source": [
    "image[870:880,970 :1020 , 0] = 252\n",
    "image[870:880,970:1020 , 1] = 215\n",
    "image[870:880,970 :1020 , 2] = 3"
   ]
  },
  {
   "cell_type": "code",
   "execution_count": 17,
   "id": "6add38df",
   "metadata": {},
   "outputs": [],
   "source": [
    "#base green\n",
    "image[600:800,0 :500 , 0] = 114\n",
    "image[600:800, 0: 500, 1] = 238\n",
    "image[600:800, 0: 500, 2] = 114\n"
   ]
  },
  {
   "cell_type": "code",
   "execution_count": 18,
   "id": "8aed3831",
   "metadata": {},
   "outputs": [],
   "source": [
    "image[600:800,1500 :2000 , 0] = 114\n",
    "image[600:800, 1500: 2000, 1] = 238\n",
    "image[600:800, 1500: 2000, 2] = 114\n"
   ]
  },
  {
   "cell_type": "code",
   "execution_count": 19,
   "id": "53fff848",
   "metadata": {},
   "outputs": [],
   "source": [
    "#railway\n",
    "image[250:550,250 :2000 , 0] = 175\n",
    "image[250:550,250: 2000, 1] = 172\n",
    "image[250:550,250: 2000, 2] = 165"
   ]
  },
  {
   "cell_type": "code",
   "execution_count": 20,
   "id": "582f2c63",
   "metadata": {},
   "outputs": [],
   "source": [
    "image[290:550,250 :2000 , 0] = 0\n",
    "image[290:550,250: 2000, 1] = 0\n",
    "image[290:550,250: 2000, 2] = 255"
   ]
  },
  {
   "cell_type": "code",
   "execution_count": 21,
   "id": "88d585b5",
   "metadata": {},
   "outputs": [],
   "source": [
    "#white window\n",
    "image[350:480, 500 :750 , 0] = 255\n",
    "image[350:480, 500: 750, 1] = 255\n",
    "image[350:480, 500: 750, 2] = 255"
   ]
  },
  {
   "cell_type": "code",
   "execution_count": 22,
   "id": "9033051b",
   "metadata": {},
   "outputs": [],
   "source": [
    "image[350:480, 900 :1250 , 0] = 255\n",
    "image[350:480, 900: 1250, 1] = 255\n",
    "image[350:480, 900: 1250, 2] = 255"
   ]
  },
  {
   "cell_type": "code",
   "execution_count": 23,
   "id": "b9aeb0d1",
   "metadata": {},
   "outputs": [],
   "source": [
    "image[350:480, 1400 :1750 , 0] = 255\n",
    "image[350:480, 1400: 1750, 1] = 255\n",
    "image[350:480, 1400: 1750, 2] = 255"
   ]
  },
  {
   "cell_type": "code",
   "execution_count": 24,
   "id": "330948d7",
   "metadata": {},
   "outputs": [],
   "source": [
    "#door\n",
    "image[350:550, 1900 :2000 , 0] = 0\n",
    "image[350:550, 1900: 2000, 1] = 0\n",
    "image[350:550, 1900: 2000, 2] = 0"
   ]
  },
  {
   "cell_type": "code",
   "execution_count": 25,
   "id": "18668253",
   "metadata": {},
   "outputs": [],
   "source": [
    "#bridge black\n",
    "image[200:600,1500 :1600 , 0] = 0\n",
    "image[200:600, 1500: 1600, 1] = 0\n",
    "image[200:600, 1500: 1600, 2] = 0"
   ]
  },
  {
   "cell_type": "code",
   "execution_count": 26,
   "id": "57461327",
   "metadata": {},
   "outputs": [],
   "source": [
    "image[200:600, 400 :500 , 0] = 0\n",
    "image[200:600, 400: 500, 1] = 0\n",
    "image[200:600, 400: 500, 2] = 0"
   ]
  },
  {
   "cell_type": "code",
   "execution_count": 27,
   "id": "90ae49e2",
   "metadata": {},
   "outputs": [],
   "source": [
    "image[200:600, 950 :1050 , 0] = 0\n",
    "image[200:600, 950: 1050, 1] = 0\n",
    "image[200:600, 950: 1050, 2] = 0"
   ]
  },
  {
   "cell_type": "code",
   "execution_count": 28,
   "id": "a2dc6df2",
   "metadata": {},
   "outputs": [],
   "source": [
    "image[550:600, 0 :2000 , 0] = 0\n",
    "image[550:600, 0: 2000, 1] = 0\n",
    "image[550:600, 0: 2000, 2] = 0"
   ]
  },
  {
   "cell_type": "code",
   "execution_count": 29,
   "id": "3f50e8e3",
   "metadata": {},
   "outputs": [],
   "source": [
    "image[200:220, 0 :2000 , 0] = 0\n",
    "image[200:220, 0: 2000, 1] = 0\n",
    "image[200:220, 0: 2000, 2] = 0"
   ]
  },
  {
   "cell_type": "code",
   "execution_count": null,
   "id": "d01c4e27",
   "metadata": {},
   "outputs": [],
   "source": []
  },
  {
   "cell_type": "code",
   "execution_count": 30,
   "id": "e90c7c97",
   "metadata": {},
   "outputs": [
    {
     "data": {
      "image/png": "[encoded data removed]",
      "text/plain": [
       "<Figure size 640x480 with 1 Axes>"
      ]
     },
     "metadata": {},
     "output_type": "display_data"
    }
   ],
   "source": [
    "plt.imshow(image)\n",
    "plt.axis('on')\n",
    "plt.show()"
   ]
  },
  {
   "cell_type": "code",
   "execution_count": null,
   "id": "db2eea2d",
   "metadata": {},
   "outputs": [],
   "source": []
  },
  {
   "cell_type": "code",
   "execution_count": null,
   "id": "89a6efe2",
   "metadata": {},
   "outputs": [],
   "source": []
  },
  {
   "cell_type": "code",
   "execution_count": null,
   "id": "1c1e12b4",
   "metadata": {},
   "outputs": [],
   "source": []
  },
  {
   "cell_type": "code",
   "execution_count": null,
   "id": "d3d5602a",
   "metadata": {},
   "outputs": [],
   "source": []
  }
 ],
 "metadata": {
  "kernelspec": {
   "display_name": "Python 3 (ipykernel)",
   "language": "python",
   "name": "python3"
  },
  "language_info": {
   "codemirror_mode": {
    "name": "ipython",
    "version": 3
   },
   "file_extension": ".py",
   "mimetype": "text/x-python",
   "name": "python",
   "nbconvert_exporter": "python",
   "pygments_lexer": "ipython3",
   "version": "3.11.3"
  }
 },
 "nbformat": 4,
 "nbformat_minor": 5
}
